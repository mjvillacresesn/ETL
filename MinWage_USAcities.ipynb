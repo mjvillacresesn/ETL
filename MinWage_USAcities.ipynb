{
 "cells": [
  {
   "cell_type": "code",
   "execution_count": 86,
   "metadata": {},
   "outputs": [],
   "source": [
    "# 1. Import dependencies\n",
    "import requests\n",
    "import pymongo\n",
    "\n",
    "import pandas as pd\n",
    "import numpy\n",
    "import requests\n",
    "from bs4 import BeautifulSoup as bs\n",
    "from pprint import pprint"
   ]
  },
  {
   "cell_type": "markdown",
   "metadata": {},
   "source": [
    "</br>\n",
    "<center><font size=8, color=\"orange\", face=\"Georgia\"> Scrapped State Abbreviations</font><center>"
   ]
  },
  {
   "cell_type": "markdown",
   "metadata": {},
   "source": [
    "![Abbreviations-Your Dictionary](./images/abbreviations.png)"
   ]
  },
  {
   "cell_type": "markdown",
   "metadata": {},
   "source": [
    "# First Source -- STATES --\n",
    "### Scrape list containing name and abbreviation for each state"
   ]
  },
  {
   "cell_type": "code",
   "execution_count": 3,
   "metadata": {},
   "outputs": [],
   "source": [
    "# 1. get url\n",
    "url = \"https://abbreviations.yourdictionary.com/articles/state-abbrev.html\""
   ]
  },
  {
   "cell_type": "code",
   "execution_count": 4,
   "metadata": {},
   "outputs": [
    {
     "data": {
      "text/plain": [
       "<Response [200]>"
      ]
     },
     "execution_count": 4,
     "metadata": {},
     "output_type": "execute_result"
    }
   ],
   "source": [
    "# 2. connect to url\n",
    "response = requests.get(url)\n",
    "response"
   ]
  },
  {
   "cell_type": "code",
   "execution_count": 5,
   "metadata": {},
   "outputs": [],
   "source": [
    "# 3. parse html page using Beautiful Soup\n",
    "soup = bs(response.text, 'lxml')"
   ]
  },
  {
   "cell_type": "markdown",
   "metadata": {},
   "source": [
    "# 50 USA States"
   ]
  },
  {
   "cell_type": "code",
   "execution_count": 6,
   "metadata": {},
   "outputs": [],
   "source": [
    "# 4. locate table containing all 50 state names and abbr. for 'div id'\n",
    "states = soup.select('div[id^=article_body]')\n",
    "for s in states:\n",
    "    slt = soup.find('ul')\n",
    "    #scrape names\n",
    "    for a in slt:\n",
    "        state_abbrev = slt.find_all('li')\n",
    "        \n",
    "# create list to store items\n",
    "state_list = []\n",
    "#loop thorugh iterable list, abstract text value and appended each to new list\n",
    "for one in state_abbrev:\n",
    "    state_list.append(one.text) "
   ]
  },
  {
   "cell_type": "markdown",
   "metadata": {},
   "source": [
    "# Additional Territories"
   ]
  },
  {
   "cell_type": "code",
   "execution_count": 7,
   "metadata": {},
   "outputs": [],
   "source": [
    "# 5. locate list containing state and abbr.\n",
    "abbrev = soup.find('div', class_='article_double')\n",
    "#scrapped list\n",
    "for a in abbrev:\n",
    "    list_other = abbrev.find('ul')\n",
    "    for a in list_other:\n",
    "        others = list_other.find_all('li')\n",
    "        \n",
    "#loop thorugh iterable list, abstract text value and appended each to new list\n",
    "for o in others:\n",
    "    state_list.append(o.text) "
   ]
  },
  {
   "cell_type": "markdown",
   "metadata": {},
   "source": [
    "# Clean Data & Display DF"
   ]
  },
  {
   "cell_type": "code",
   "execution_count": 18,
   "metadata": {},
   "outputs": [
    {
     "data": {
      "text/html": [
       "<div>\n",
       "<style scoped>\n",
       "    .dataframe tbody tr th:only-of-type {\n",
       "        vertical-align: middle;\n",
       "    }\n",
       "\n",
       "    .dataframe tbody tr th {\n",
       "        vertical-align: top;\n",
       "    }\n",
       "\n",
       "    .dataframe thead th {\n",
       "        text-align: right;\n",
       "    }\n",
       "</style>\n",
       "<table border=\"1\" class=\"dataframe\">\n",
       "  <thead>\n",
       "    <tr style=\"text-align: right;\">\n",
       "      <th></th>\n",
       "      <th>1</th>\n",
       "    </tr>\n",
       "    <tr>\n",
       "      <th>State</th>\n",
       "      <th></th>\n",
       "    </tr>\n",
       "  </thead>\n",
       "  <tbody>\n",
       "    <tr>\n",
       "      <th>Alabama</th>\n",
       "      <td>AL</td>\n",
       "    </tr>\n",
       "    <tr>\n",
       "      <th>Alaska</th>\n",
       "      <td>AK</td>\n",
       "    </tr>\n",
       "    <tr>\n",
       "      <th>Arizona</th>\n",
       "      <td>AZ</td>\n",
       "    </tr>\n",
       "    <tr>\n",
       "      <th>Arkansas</th>\n",
       "      <td>AR</td>\n",
       "    </tr>\n",
       "    <tr>\n",
       "      <th>California</th>\n",
       "      <td>CA</td>\n",
       "    </tr>\n",
       "  </tbody>\n",
       "</table>\n",
       "</div>"
      ],
      "text/plain": [
       "                1\n",
       "State            \n",
       "Alabama       AL \n",
       "Alaska        AK \n",
       "Arizona       AZ \n",
       "Arkansas      AR \n",
       "California    CA "
      ]
     },
     "execution_count": 18,
     "metadata": {},
     "output_type": "execute_result"
    }
   ],
   "source": [
    "# 6. save list as data frame\n",
    "states = pd.DataFrame({'state':state_list})\n",
    "\n",
    "# split columns to separate Abbrev and Name (will use it a primary key to join tables)\n",
    "state = states['state'].str.split('-', 1, expand=True)\n",
    "state\n",
    "#rename col to 'State', set state as new index\n",
    "state_df = state.rename(columns={state.columns[0]: \"State\"}).set_index(\"State\")\n",
    "state_df.head()"
   ]
  },
  {
   "cell_type": "markdown",
   "metadata": {},
   "source": [
    "<center><font size=8, color=\"green\", face=\"Georgia\"> Minimum Wage for all USA States from <br /> 1968 - 2018</font><center>"
   ]
  },
  {
   "cell_type": "markdown",
   "metadata": {},
   "source": [
    "![Abbreviations-Your Dictionary](./images/deptlabor.png)"
   ]
  },
  {
   "cell_type": "markdown",
   "metadata": {},
   "source": [
    "# Second Source -- WAGES --\n",
    "### Locate minimum wage for all states & territories for the past 50 years"
   ]
  },
  {
   "cell_type": "code",
   "execution_count": 112,
   "metadata": {},
   "outputs": [],
   "source": [
    "# 1. obtain and merge wage tables for the last 10 years\n",
    "#2007-2013\n",
    "data4 = pd.read_html('https://www.dol.gov/whd/state/stateMinWageHis.htm',attrs={'summary': 'This is a table of minimum changes by state for 2007 to 2013.'})[0]\n",
    "df4 = data4.reindex(data4.index.drop(0))\n",
    "#2014-2018\n",
    "data5 = pd.read_html('https://www.dol.gov/whd/state/stateMinWageHis.htm',attrs={'summary': 'This is a table of minimum changes by state for 2014 to 2017.'})[0]\n",
    "df5 = data5.reindex(data5.index.drop(0))"
   ]
  },
  {
   "cell_type": "code",
   "execution_count": 121,
   "metadata": {},
   "outputs": [
    {
     "data": {
      "text/html": [
       "<div>\n",
       "<style scoped>\n",
       "    .dataframe tbody tr th:only-of-type {\n",
       "        vertical-align: middle;\n",
       "    }\n",
       "\n",
       "    .dataframe tbody tr th {\n",
       "        vertical-align: top;\n",
       "    }\n",
       "\n",
       "    .dataframe thead th {\n",
       "        text-align: right;\n",
       "    }\n",
       "</style>\n",
       "<table border=\"1\" class=\"dataframe\">\n",
       "  <thead>\n",
       "    <tr style=\"text-align: right;\">\n",
       "      <th></th>\n",
       "      <th>State Name</th>\n",
       "      <th>2007</th>\n",
       "      <th>2008</th>\n",
       "      <th>2009</th>\n",
       "      <th>2010</th>\n",
       "      <th>2011</th>\n",
       "      <th>2012</th>\n",
       "      <th>2013</th>\n",
       "      <th>2014</th>\n",
       "      <th>2015</th>\n",
       "      <th>2016</th>\n",
       "      <th>2017</th>\n",
       "      <th>2018</th>\n",
       "    </tr>\n",
       "  </thead>\n",
       "  <tbody>\n",
       "    <tr>\n",
       "      <th>1</th>\n",
       "      <td>Alaska</td>\n",
       "      <td>7.15</td>\n",
       "      <td>7.15</td>\n",
       "      <td>7.15</td>\n",
       "      <td>7.75</td>\n",
       "      <td>7.75</td>\n",
       "      <td>7.75</td>\n",
       "      <td>7.75</td>\n",
       "      <td>7.75</td>\n",
       "      <td>8.75</td>\n",
       "      <td>9.75</td>\n",
       "      <td>9.80</td>\n",
       "      <td>9.84</td>\n",
       "    </tr>\n",
       "    <tr>\n",
       "      <th>2</th>\n",
       "      <td>Arizona</td>\n",
       "      <td>6.75</td>\n",
       "      <td>6.90</td>\n",
       "      <td>7.25</td>\n",
       "      <td>7.25</td>\n",
       "      <td>7.35</td>\n",
       "      <td>7.65</td>\n",
       "      <td>7.80</td>\n",
       "      <td>7.90</td>\n",
       "      <td>8.05</td>\n",
       "      <td>8.05</td>\n",
       "      <td>10.00</td>\n",
       "      <td>10.50</td>\n",
       "    </tr>\n",
       "    <tr>\n",
       "      <th>3</th>\n",
       "      <td>Arkansas</td>\n",
       "      <td>6.25[c]</td>\n",
       "      <td>6.25[c]</td>\n",
       "      <td>6.25[c]</td>\n",
       "      <td>6.25[c]</td>\n",
       "      <td>6.25[c]</td>\n",
       "      <td>6.25[c]</td>\n",
       "      <td>6.25[c]</td>\n",
       "      <td>6.25[c]</td>\n",
       "      <td>7.50[c]</td>\n",
       "      <td>8.00[c]</td>\n",
       "      <td>8.50[c]</td>\n",
       "      <td>8.50[c]</td>\n",
       "    </tr>\n",
       "    <tr>\n",
       "      <th>4</th>\n",
       "      <td>California</td>\n",
       "      <td>7.50</td>\n",
       "      <td>8.00</td>\n",
       "      <td>8.00</td>\n",
       "      <td>8.00</td>\n",
       "      <td>8.00</td>\n",
       "      <td>8.00</td>\n",
       "      <td>8.00</td>\n",
       "      <td>9.00</td>\n",
       "      <td>9.00</td>\n",
       "      <td>10.00</td>\n",
       "      <td>10.00</td>\n",
       "      <td>11.00</td>\n",
       "    </tr>\n",
       "    <tr>\n",
       "      <th>5</th>\n",
       "      <td>Colorado</td>\n",
       "      <td>6.85</td>\n",
       "      <td>7.02</td>\n",
       "      <td>7.28</td>\n",
       "      <td>7.24</td>\n",
       "      <td>7.36</td>\n",
       "      <td>7.64</td>\n",
       "      <td>7.78</td>\n",
       "      <td>8.00</td>\n",
       "      <td>8.23</td>\n",
       "      <td>8.31</td>\n",
       "      <td>9.30</td>\n",
       "      <td>10.20</td>\n",
       "    </tr>\n",
       "  </tbody>\n",
       "</table>\n",
       "</div>"
      ],
      "text/plain": [
       "   State Name     2007     2008     2009     2010     2011     2012     2013  \\\n",
       "1      Alaska     7.15     7.15     7.15     7.75     7.75     7.75     7.75   \n",
       "2     Arizona     6.75     6.90     7.25     7.25     7.35     7.65     7.80   \n",
       "3    Arkansas  6.25[c]  6.25[c]  6.25[c]  6.25[c]  6.25[c]  6.25[c]  6.25[c]   \n",
       "4  California     7.50     8.00     8.00     8.00     8.00     8.00     8.00   \n",
       "5    Colorado     6.85     7.02     7.28     7.24     7.36     7.64     7.78   \n",
       "\n",
       "      2014     2015     2016     2017     2018  \n",
       "1     7.75     8.75     9.75     9.80     9.84  \n",
       "2     7.90     8.05     8.05    10.00    10.50  \n",
       "3  6.25[c]  7.50[c]  8.00[c]  8.50[c]  8.50[c]  \n",
       "4     9.00     9.00    10.00    10.00    11.00  \n",
       "5     8.00     8.23     8.31     9.30    10.20  "
      ]
     },
     "execution_count": 121,
     "metadata": {},
     "output_type": "execute_result"
    }
   ],
   "source": [
    "# 2. merge all dfs on \"State or other  jurisdiction\". Note: Be mindful of spacing\n",
    "# rename col for join, drop empty '...' values, TOTAL STATES :49, set index, sort descendig value\n",
    "wagesdf = df4.merge(df5,on='State or other  jurisdiction').rename(index=str, columns={\"State or other  jurisdiction\": \"State Name\"}).drop(['0', '17', '23', '39', '41']).sort_values(by='State Name', ascending=True)\n",
    "wagesdf.head()"
   ]
  },
  {
   "cell_type": "markdown",
   "metadata": {},
   "source": [
    "# Merge: States & Wages"
   ]
  },
  {
   "cell_type": "code",
   "execution_count": 122,
   "metadata": {},
   "outputs": [],
   "source": [
    "# List Source (Github Repo) // Manually cleanse list. \n",
    "# limitation: when merging original scrapped list 'state_df', no results displayed. Tried different ways of joining, merging, & concatinating.  \n",
    "states = [\"AK\", \"AZ\", \"AR\", \"CA\", \"CO\", \"CT\", \"DE\", \"DC\", \"FL\", \"GA\", \n",
    "          \"GU\", \"HI\", \"ID\", \"IL\", \"IN\", \"IA\", \"KS\", \"KY\", \"ME\", \"MD\", \n",
    "          \"MA\", \"MI\", \"MN\", \"MS\", \"MT\", \"NE\", \"NV\", \"NH\", \"NJ\", \n",
    "          \"NM\", \"NY\", \"NC\", \"ND\", \"OH\", \"OK\", \"OR\", \"PA\", \"PR\", \"RI\", \n",
    "          \"SD\", \"TX\", \"VI\", \"UT\", \"VT\" ,\"VA\", \"WA\", \"WV\", \"WI\", \"WY\"]\n",
    "\n",
    "# 3. insert a new column called \"Abbrev\" with index col[0], inside wages_df using list above \"states\"\n",
    "wagesdf.insert(0, 'Abrv', states)"
   ]
  },
  {
   "cell_type": "code",
   "execution_count": 123,
   "metadata": {},
   "outputs": [
    {
     "data": {
      "text/html": [
       "<div>\n",
       "<style scoped>\n",
       "    .dataframe tbody tr th:only-of-type {\n",
       "        vertical-align: middle;\n",
       "    }\n",
       "\n",
       "    .dataframe tbody tr th {\n",
       "        vertical-align: top;\n",
       "    }\n",
       "\n",
       "    .dataframe thead th {\n",
       "        text-align: right;\n",
       "    }\n",
       "</style>\n",
       "<table border=\"1\" class=\"dataframe\">\n",
       "  <thead>\n",
       "    <tr style=\"text-align: right;\">\n",
       "      <th></th>\n",
       "      <th>Abrv</th>\n",
       "      <th>State Name</th>\n",
       "      <th>2007</th>\n",
       "      <th>2008</th>\n",
       "      <th>2009</th>\n",
       "      <th>2010</th>\n",
       "      <th>2011</th>\n",
       "      <th>2012</th>\n",
       "      <th>2013</th>\n",
       "      <th>2014</th>\n",
       "      <th>2015</th>\n",
       "      <th>2016</th>\n",
       "      <th>2017</th>\n",
       "      <th>2018</th>\n",
       "    </tr>\n",
       "  </thead>\n",
       "  <tbody>\n",
       "    <tr>\n",
       "      <th>1</th>\n",
       "      <td>AK</td>\n",
       "      <td>Alaska</td>\n",
       "      <td>7.15</td>\n",
       "      <td>7.15</td>\n",
       "      <td>7.15</td>\n",
       "      <td>7.75</td>\n",
       "      <td>7.75</td>\n",
       "      <td>7.75</td>\n",
       "      <td>7.75</td>\n",
       "      <td>7.75</td>\n",
       "      <td>8.75</td>\n",
       "      <td>9.75</td>\n",
       "      <td>9.80</td>\n",
       "      <td>9.84</td>\n",
       "    </tr>\n",
       "    <tr>\n",
       "      <th>2</th>\n",
       "      <td>AZ</td>\n",
       "      <td>Arizona</td>\n",
       "      <td>6.75</td>\n",
       "      <td>6.90</td>\n",
       "      <td>7.25</td>\n",
       "      <td>7.25</td>\n",
       "      <td>7.35</td>\n",
       "      <td>7.65</td>\n",
       "      <td>7.80</td>\n",
       "      <td>7.90</td>\n",
       "      <td>8.05</td>\n",
       "      <td>8.05</td>\n",
       "      <td>10.00</td>\n",
       "      <td>10.50</td>\n",
       "    </tr>\n",
       "    <tr>\n",
       "      <th>3</th>\n",
       "      <td>AR</td>\n",
       "      <td>Arkansas</td>\n",
       "      <td>6.25[c]</td>\n",
       "      <td>6.25[c]</td>\n",
       "      <td>6.25[c]</td>\n",
       "      <td>6.25[c]</td>\n",
       "      <td>6.25[c]</td>\n",
       "      <td>6.25[c]</td>\n",
       "      <td>6.25[c]</td>\n",
       "      <td>6.25[c]</td>\n",
       "      <td>7.50[c]</td>\n",
       "      <td>8.00[c]</td>\n",
       "      <td>8.50[c]</td>\n",
       "      <td>8.50[c]</td>\n",
       "    </tr>\n",
       "    <tr>\n",
       "      <th>4</th>\n",
       "      <td>CA</td>\n",
       "      <td>California</td>\n",
       "      <td>7.50</td>\n",
       "      <td>8.00</td>\n",
       "      <td>8.00</td>\n",
       "      <td>8.00</td>\n",
       "      <td>8.00</td>\n",
       "      <td>8.00</td>\n",
       "      <td>8.00</td>\n",
       "      <td>9.00</td>\n",
       "      <td>9.00</td>\n",
       "      <td>10.00</td>\n",
       "      <td>10.00</td>\n",
       "      <td>11.00</td>\n",
       "    </tr>\n",
       "    <tr>\n",
       "      <th>5</th>\n",
       "      <td>CO</td>\n",
       "      <td>Colorado</td>\n",
       "      <td>6.85</td>\n",
       "      <td>7.02</td>\n",
       "      <td>7.28</td>\n",
       "      <td>7.24</td>\n",
       "      <td>7.36</td>\n",
       "      <td>7.64</td>\n",
       "      <td>7.78</td>\n",
       "      <td>8.00</td>\n",
       "      <td>8.23</td>\n",
       "      <td>8.31</td>\n",
       "      <td>9.30</td>\n",
       "      <td>10.20</td>\n",
       "    </tr>\n",
       "  </tbody>\n",
       "</table>\n",
       "</div>"
      ],
      "text/plain": [
       "  Abrv  State Name     2007     2008     2009     2010     2011     2012  \\\n",
       "1   AK      Alaska     7.15     7.15     7.15     7.75     7.75     7.75   \n",
       "2   AZ     Arizona     6.75     6.90     7.25     7.25     7.35     7.65   \n",
       "3   AR    Arkansas  6.25[c]  6.25[c]  6.25[c]  6.25[c]  6.25[c]  6.25[c]   \n",
       "4   CA  California     7.50     8.00     8.00     8.00     8.00     8.00   \n",
       "5   CO    Colorado     6.85     7.02     7.28     7.24     7.36     7.64   \n",
       "\n",
       "      2013     2014     2015     2016     2017     2018  \n",
       "1     7.75     7.75     8.75     9.75     9.80     9.84  \n",
       "2     7.80     7.90     8.05     8.05    10.00    10.50  \n",
       "3  6.25[c]  6.25[c]  7.50[c]  8.00[c]  8.50[c]  8.50[c]  \n",
       "4     8.00     9.00     9.00    10.00    10.00    11.00  \n",
       "5     7.78     8.00     8.23     8.31     9.30    10.20  "
      ]
     },
     "execution_count": 123,
     "metadata": {},
     "output_type": "execute_result"
    }
   ],
   "source": [
    "wagesdf.head()"
   ]
  },
  {
   "cell_type": "markdown",
   "metadata": {},
   "source": [
    "<center><font size=8, color=\"green\", face=\"Georgia\"> USA CITIES</font><center>"
   ]
  },
  {
   "cell_type": "markdown",
   "metadata": {},
   "source": [
    "![Kaggle](./images/kaggle.png)"
   ]
  },
  {
   "cell_type": "markdown",
   "metadata": {},
   "source": [
    "# Third Source - Final merge"
   ]
  },
  {
   "cell_type": "markdown",
   "metadata": {},
   "source": [
    "* We have now appended \"Abbrev\" names into dataframe 'wage_df' and kept \"State\" as the index.\n",
    "* Finally, append 'wage_df' to 'USA_cities.csv' to complete merge and display final results"
   ]
  },
  {
   "cell_type": "code",
   "execution_count": 124,
   "metadata": {},
   "outputs": [
    {
     "data": {
      "text/html": [
       "<div>\n",
       "<style scoped>\n",
       "    .dataframe tbody tr th:only-of-type {\n",
       "        vertical-align: middle;\n",
       "    }\n",
       "\n",
       "    .dataframe tbody tr th {\n",
       "        vertical-align: top;\n",
       "    }\n",
       "\n",
       "    .dataframe thead th {\n",
       "        text-align: right;\n",
       "    }\n",
       "</style>\n",
       "<table border=\"1\" class=\"dataframe\">\n",
       "  <thead>\n",
       "    <tr style=\"text-align: right;\">\n",
       "      <th></th>\n",
       "      <th>zip_code</th>\n",
       "      <th>latitude</th>\n",
       "      <th>longitude</th>\n",
       "      <th>city</th>\n",
       "      <th>Abrv</th>\n",
       "      <th>county</th>\n",
       "    </tr>\n",
       "  </thead>\n",
       "  <tbody>\n",
       "    <tr>\n",
       "      <th>0</th>\n",
       "      <td>501</td>\n",
       "      <td>40.922326</td>\n",
       "      <td>-72.637078</td>\n",
       "      <td>Holtsville</td>\n",
       "      <td>NY</td>\n",
       "      <td>Suffolk</td>\n",
       "    </tr>\n",
       "    <tr>\n",
       "      <th>1</th>\n",
       "      <td>544</td>\n",
       "      <td>40.922326</td>\n",
       "      <td>-72.637078</td>\n",
       "      <td>Holtsville</td>\n",
       "      <td>NY</td>\n",
       "      <td>Suffolk</td>\n",
       "    </tr>\n",
       "    <tr>\n",
       "      <th>2</th>\n",
       "      <td>601</td>\n",
       "      <td>18.165273</td>\n",
       "      <td>-66.722583</td>\n",
       "      <td>Adjuntas</td>\n",
       "      <td>PR</td>\n",
       "      <td>Adjuntas</td>\n",
       "    </tr>\n",
       "    <tr>\n",
       "      <th>3</th>\n",
       "      <td>602</td>\n",
       "      <td>18.393103</td>\n",
       "      <td>-67.180953</td>\n",
       "      <td>Aguada</td>\n",
       "      <td>PR</td>\n",
       "      <td>Aguada</td>\n",
       "    </tr>\n",
       "    <tr>\n",
       "      <th>4</th>\n",
       "      <td>603</td>\n",
       "      <td>18.455913</td>\n",
       "      <td>-67.145780</td>\n",
       "      <td>Aguadilla</td>\n",
       "      <td>PR</td>\n",
       "      <td>Aguadilla</td>\n",
       "    </tr>\n",
       "  </tbody>\n",
       "</table>\n",
       "</div>"
      ],
      "text/plain": [
       "   zip_code   latitude  longitude        city Abrv     county\n",
       "0       501  40.922326 -72.637078  Holtsville   NY    Suffolk\n",
       "1       544  40.922326 -72.637078  Holtsville   NY    Suffolk\n",
       "2       601  18.165273 -66.722583    Adjuntas   PR   Adjuntas\n",
       "3       602  18.393103 -67.180953      Aguada   PR     Aguada\n",
       "4       603  18.455913 -67.145780   Aguadilla   PR  Aguadilla"
      ]
     },
     "execution_count": 124,
     "metadata": {},
     "output_type": "execute_result"
    }
   ],
   "source": [
    "# (Source used:--KAGGLE: https://www.kaggle.com/shivamb/cities#zip_codes_states.csv)\n",
    "# 1. read csv file saved as USA_cities, and rename column (key)\n",
    "df= pd.read_csv(\"./USA_cities.csv\").rename(columns={'state': 'Abrv'})\n",
    "df.head()"
   ]
  },
  {
   "cell_type": "markdown",
   "metadata": {},
   "source": [
    "# Initialize, Connect, Define & Push to MongoDB"
   ]
  },
  {
   "cell_type": "code",
   "execution_count": 146,
   "metadata": {},
   "outputs": [],
   "source": [
    "# 1. initialize PyMongo to work with MongoDBs\n",
    "conn = 'mongodb://localhost:27017'\n",
    "client = pymongo.MongoClient(conn)"
   ]
  },
  {
   "cell_type": "code",
   "execution_count": 147,
   "metadata": {},
   "outputs": [],
   "source": [
    "# 2. define database and collection\n",
    "db = client.metricsusa_db\n",
    "collection = db.usa_citiwages"
   ]
  },
  {
   "cell_type": "code",
   "execution_count": 148,
   "metadata": {
    "scrolled": true
   },
   "outputs": [
    {
     "data": {
      "text/plain": [
       "zip_code     48\n",
       "latitude     48\n",
       "longitude    48\n",
       "Abrv         48\n",
       "county       48\n",
       "2007         48\n",
       "2008         48\n",
       "2009         48\n",
       "2010         48\n",
       "2011         48\n",
       "2012         48\n",
       "2013         48\n",
       "2014         48\n",
       "2015         48\n",
       "2016         48\n",
       "2017         48\n",
       "2018         48\n",
       "dtype: int64"
      ]
     },
     "execution_count": 148,
     "metadata": {},
     "output_type": "execute_result"
    }
   ],
   "source": [
    "# 3. cleanse final data: merge dfs, set 'city' as index, drop duplicates,  \n",
    "data_clean = df.merge(wagesdf, on=\"Abrv\").set_index('city')\n",
    "asd = data_clean.groupby('State Name').count()\n",
    "#final count #48 STATES\n",
    "asd.count()"
   ]
  },
  {
   "cell_type": "code",
   "execution_count": 145,
   "metadata": {},
   "outputs": [],
   "source": [
    "# 4. save as json dict in decending order by 'city'\n",
    "citiwage_jfile = data_clean.to_dict('index')\n",
    "#pprint(citiwage_jfile)"
   ]
  },
  {
   "cell_type": "code",
   "execution_count": 150,
   "metadata": {},
   "outputs": [
    {
     "data": {
      "text/plain": [
       "<pymongo.results.InsertOneResult at 0x227a6993a08>"
      ]
     },
     "execution_count": 150,
     "metadata": {},
     "output_type": "execute_result"
    }
   ],
   "source": [
    "# 5. push josn file to collection 'usa_citiwages' in Mongo DB 'metricsusa_db' \n",
    "collection.insert_one(citiwage_jfile)"
   ]
  },
  {
   "cell_type": "markdown",
   "metadata": {},
   "source": [
    "# Output file (CVS, comma delimited // (Excel)) "
   ]
  },
  {
   "cell_type": "code",
   "execution_count": 151,
   "metadata": {},
   "outputs": [],
   "source": [
    "# 1. output results in csv file (for Vika's reference)\n",
    "data_clean.to_csv(\"US_Citiwages.csv\", index=False)"
   ]
  }
 ],
 "metadata": {
  "kernelspec": {
   "display_name": "Python 3",
   "language": "python",
   "name": "python3"
  },
  "language_info": {
   "codemirror_mode": {
    "name": "ipython",
    "version": 3
   },
   "file_extension": ".py",
   "mimetype": "text/x-python",
   "name": "python",
   "nbconvert_exporter": "python",
   "pygments_lexer": "ipython3",
   "version": "3.7.2"
  }
 },
 "nbformat": 4,
 "nbformat_minor": 2
}
